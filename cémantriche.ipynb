{
 "cells": [
  {
   "cell_type": "code",
   "execution_count": 40,
   "id": "0588dd38-5a44-4dda-877f-387bcc9c667b",
   "metadata": {},
   "outputs": [],
   "source": [
    "import numpy as np"
   ]
  },
  {
   "cell_type": "code",
   "execution_count": 41,
   "id": "72ffc5e6-0ac9-4866-89b5-80cb5b1b832f",
   "metadata": {},
   "outputs": [],
   "source": [
    "from gensim.models import KeyedVectors\n",
    "model = KeyedVectors.load_word2vec_format(\"~/Downloads/frWac_non_lem_no_postag_no_phrase_200_cbow_cut100.bin\", binary=True, unicode_errors=\"ignore\")"
   ]
  },
  {
   "cell_type": "code",
   "execution_count": 42,
   "id": "681c808a-2341-416b-b9c5-78b6e2f8855b",
   "metadata": {},
   "outputs": [],
   "source": [
    "import pandas as pd"
   ]
  },
  {
   "cell_type": "code",
   "execution_count": 219,
   "id": "9532ee80-0a6a-430a-9148-2dc164e8a596",
   "metadata": {},
   "outputs": [
    {
     "data": {
      "text/html": [
       "<div>\n",
       "<style scoped>\n",
       "    .dataframe tbody tr th:only-of-type {\n",
       "        vertical-align: middle;\n",
       "    }\n",
       "\n",
       "    .dataframe tbody tr th {\n",
       "        vertical-align: top;\n",
       "    }\n",
       "\n",
       "    .dataframe thead th {\n",
       "        text-align: right;\n",
       "    }\n",
       "</style>\n",
       "<table border=\"1\" class=\"dataframe\">\n",
       "  <thead>\n",
       "    <tr style=\"text-align: right;\">\n",
       "      <th></th>\n",
       "      <th>Lemme</th>\n",
       "      <th>Fréquence</th>\n",
       "    </tr>\n",
       "  </thead>\n",
       "  <tbody>\n",
       "    <tr>\n",
       "      <th>91475</th>\n",
       "      <td>dopaminergique</td>\n",
       "      <td>0.000010</td>\n",
       "    </tr>\n",
       "    <tr>\n",
       "      <th>91473</th>\n",
       "      <td>voleter</td>\n",
       "      <td>0.000010</td>\n",
       "    </tr>\n",
       "    <tr>\n",
       "      <th>91472</th>\n",
       "      <td>tabler</td>\n",
       "      <td>0.000010</td>\n",
       "    </tr>\n",
       "    <tr>\n",
       "      <th>91469</th>\n",
       "      <td>isométrique</td>\n",
       "      <td>0.000010</td>\n",
       "    </tr>\n",
       "    <tr>\n",
       "      <th>91468</th>\n",
       "      <td>combiner</td>\n",
       "      <td>0.000010</td>\n",
       "    </tr>\n",
       "    <tr>\n",
       "      <th>...</th>\n",
       "      <td>...</td>\n",
       "      <td>...</td>\n",
       "    </tr>\n",
       "    <tr>\n",
       "      <th>82</th>\n",
       "      <td>temps</td>\n",
       "      <td>0.105090</td>\n",
       "    </tr>\n",
       "    <tr>\n",
       "      <th>71</th>\n",
       "      <td>autre</td>\n",
       "      <td>0.134264</td>\n",
       "    </tr>\n",
       "    <tr>\n",
       "      <th>42</th>\n",
       "      <td>pas</td>\n",
       "      <td>0.275864</td>\n",
       "    </tr>\n",
       "    <tr>\n",
       "      <th>38</th>\n",
       "      <td>plus</td>\n",
       "      <td>0.281590</td>\n",
       "    </tr>\n",
       "    <tr>\n",
       "      <th>16</th>\n",
       "      <td>est</td>\n",
       "      <td>1.041067</td>\n",
       "    </tr>\n",
       "  </tbody>\n",
       "</table>\n",
       "<p>24983 rows × 2 columns</p>\n",
       "</div>"
      ],
      "text/plain": [
       "                Lemme  Fréquence\n",
       "91475  dopaminergique   0.000010\n",
       "91473         voleter   0.000010\n",
       "91472          tabler   0.000010\n",
       "91469     isométrique   0.000010\n",
       "91468        combiner   0.000010\n",
       "...               ...        ...\n",
       "82              temps   0.105090\n",
       "71              autre   0.134264\n",
       "42                pas   0.275864\n",
       "38               plus   0.281590\n",
       "16                est   1.041067\n",
       "\n",
       "[24983 rows x 2 columns]"
      ]
     },
     "execution_count": 219,
     "metadata": {},
     "output_type": "execute_result"
    }
   ],
   "source": [
    "dico = pd.read_csv(\"/home/olojkine/Downloads/lexique-grammalecte-fr-v7.0.txt\", skiprows=15, sep='\\t')\n",
    "dico.sort_values(\"Fréquence\", inplace=True)\n",
    "dico = dico[(dico.Fréquence > 1e-5) & (dico.Étiquettes.str.match(\"nom|v[123]|adj\")) & (dico.Lemme.str.len() > 2)]\n",
    "dico = dico[dico.Lemme.isin(model.index_to_key)]\n",
    "dico.drop_duplicates(\"Lemme\", inplace=True)\n",
    "dico[[\"Lemme\", \"Fréquence\"]]"
   ]
  },
  {
   "cell_type": "code",
   "execution_count": 220,
   "id": "f7dead5a-b368-46c6-aac6-1a453b3db5df",
   "metadata": {},
   "outputs": [],
   "source": [
    "import requests\n",
    "import time\n",
    "def req_word(word):\n",
    "    r = requests.post(\"https://cemantix.herokuapp.com/score\", data={\"word\": word}).json()\n",
    "    if \"error\" in r and \"tapez trop vite\" in r[\"error\"]:\n",
    "        time.sleep(.2)\n",
    "        return req_word(word)\n",
    "    return r.get(\"score\", np.nan)"
   ]
  },
  {
   "cell_type": "code",
   "execution_count": 229,
   "id": "ac2c3bc3-caf1-4bf3-ba00-922cc817374a",
   "metadata": {},
   "outputs": [
    {
     "name": "stdout",
     "output_type": "stream",
     "text": [
      "  1. J'essaie “est”. Score: -1.48.\n",
      "  2. J'essaie “paiement”. Score: 3.85.\n",
      "  3. J'essaie “fleuve”. Score: -3.76.\n",
      "  4. J'essaie “logement”. Score: -0.05.\n",
      "  5. J'essaie “micro”.  GAGNÉ en 2.7 secondes\n"
     ]
    }
   ],
   "source": [
    "import time\n",
    "t = time.time()\n",
    "vocab = [(x.Lemme, x.Fréquence) for _,x in dico.iterrows()]\n",
    "i = 0\n",
    "while vocab:\n",
    "    i += 1\n",
    "    word = max(vocab, key=lambda tup: tup[1])[0]\n",
    "    print(f\"{i:3d}. J'essaie “{word}”. \", end=\"\")\n",
    "    score = req_word(word)\n",
    "    if np.isnan(score):\n",
    "        print(\" Cémantix ne connaît pas ce mot.\")\n",
    "        vocab = [(w, prev) for w, prev in vocab if w != word]\n",
    "        continue\n",
    "    if score == 1:\n",
    "        print(f\" GAGNÉ en {time.time() - t:.1f} secondes\")\n",
    "        break\n",
    "    print(f\"Score: {100*score:.2f}.\")\n",
    "    dmin = 0.15\n",
    "    sims = {\n",
    "        word: sim\n",
    "        for word, sim\n",
    "        in model.most_similar(word, topn=450_000)\n",
    "    }\n",
    "    vocab = [(w, prev / (1e-5 + abs(score-sims.get(w, 1)))) for w, prev in vocab if w != word]"
   ]
  },
  {
   "cell_type": "code",
   "execution_count": null,
   "id": "d66de694-a7c3-4a1f-bf22-97ff683f3beb",
   "metadata": {},
   "outputs": [],
   "source": []
  }
 ],
 "metadata": {
  "kernelspec": {
   "display_name": "Python 3 (ipykernel)",
   "language": "python",
   "name": "python3"
  },
  "language_info": {
   "codemirror_mode": {
    "name": "ipython",
    "version": 3
   },
   "file_extension": ".py",
   "mimetype": "text/x-python",
   "name": "python",
   "nbconvert_exporter": "python",
   "pygments_lexer": "ipython3",
   "version": "3.10.2"
  }
 },
 "nbformat": 4,
 "nbformat_minor": 5
}
