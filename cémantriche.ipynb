{
 "cells": [
  {
   "cell_type": "code",
   "execution_count": 1,
   "id": "0588dd38-5a44-4dda-877f-387bcc9c667b",
   "metadata": {},
   "outputs": [],
   "source": [
    "import numpy as np"
   ]
  },
  {
   "cell_type": "code",
   "execution_count": 2,
   "id": "72ffc5e6-0ac9-4866-89b5-80cb5b1b832f",
   "metadata": {},
   "outputs": [],
   "source": [
    "from gensim.models import KeyedVectors\n",
    "model = KeyedVectors.load_word2vec_format(\"~/Downloads/frWac_non_lem_no_postag_no_phrase_200_cbow_cut100.bin\", binary=True, unicode_errors=\"ignore\")"
   ]
  },
  {
   "cell_type": "code",
   "execution_count": 3,
   "id": "681c808a-2341-416b-b9c5-78b6e2f8855b",
   "metadata": {},
   "outputs": [],
   "source": [
    "import pandas as pd"
   ]
  },
  {
   "cell_type": "code",
   "execution_count": 4,
   "id": "9532ee80-0a6a-430a-9148-2dc164e8a596",
   "metadata": {},
   "outputs": [
    {
     "data": {
      "text/html": [
       "<div>\n",
       "<style scoped>\n",
       "    .dataframe tbody tr th:only-of-type {\n",
       "        vertical-align: middle;\n",
       "    }\n",
       "\n",
       "    .dataframe tbody tr th {\n",
       "        vertical-align: top;\n",
       "    }\n",
       "\n",
       "    .dataframe thead th {\n",
       "        text-align: right;\n",
       "    }\n",
       "</style>\n",
       "<table border=\"1\" class=\"dataframe\">\n",
       "  <thead>\n",
       "    <tr style=\"text-align: right;\">\n",
       "      <th></th>\n",
       "      <th>Lemme</th>\n",
       "      <th>Fréquence</th>\n",
       "    </tr>\n",
       "  </thead>\n",
       "  <tbody>\n",
       "    <tr>\n",
       "      <th>91466</th>\n",
       "      <td>modénature</td>\n",
       "      <td>0.000010</td>\n",
       "    </tr>\n",
       "    <tr>\n",
       "      <th>91459</th>\n",
       "      <td>psychédélique</td>\n",
       "      <td>0.000010</td>\n",
       "    </tr>\n",
       "    <tr>\n",
       "      <th>91457</th>\n",
       "      <td>phonémique</td>\n",
       "      <td>0.000010</td>\n",
       "    </tr>\n",
       "    <tr>\n",
       "      <th>91456</th>\n",
       "      <td>papaye</td>\n",
       "      <td>0.000010</td>\n",
       "    </tr>\n",
       "    <tr>\n",
       "      <th>91444</th>\n",
       "      <td>félibre</td>\n",
       "      <td>0.000010</td>\n",
       "    </tr>\n",
       "    <tr>\n",
       "      <th>...</th>\n",
       "      <td>...</td>\n",
       "      <td>...</td>\n",
       "    </tr>\n",
       "    <tr>\n",
       "      <th>68</th>\n",
       "      <td>faire</td>\n",
       "      <td>0.142856</td>\n",
       "    </tr>\n",
       "    <tr>\n",
       "      <th>58</th>\n",
       "      <td>fait</td>\n",
       "      <td>0.184967</td>\n",
       "    </tr>\n",
       "    <tr>\n",
       "      <th>42</th>\n",
       "      <td>pas</td>\n",
       "      <td>0.275864</td>\n",
       "    </tr>\n",
       "    <tr>\n",
       "      <th>38</th>\n",
       "      <td>plus</td>\n",
       "      <td>0.281590</td>\n",
       "    </tr>\n",
       "    <tr>\n",
       "      <th>16</th>\n",
       "      <td>est</td>\n",
       "      <td>1.041067</td>\n",
       "    </tr>\n",
       "  </tbody>\n",
       "</table>\n",
       "<p>25004 rows × 2 columns</p>\n",
       "</div>"
      ],
      "text/plain": [
       "               Lemme  Fréquence\n",
       "91466     modénature   0.000010\n",
       "91459  psychédélique   0.000010\n",
       "91457     phonémique   0.000010\n",
       "91456         papaye   0.000010\n",
       "91444        félibre   0.000010\n",
       "...              ...        ...\n",
       "68             faire   0.142856\n",
       "58              fait   0.184967\n",
       "42               pas   0.275864\n",
       "38              plus   0.281590\n",
       "16               est   1.041067\n",
       "\n",
       "[25004 rows x 2 columns]"
      ]
     },
     "execution_count": 4,
     "metadata": {},
     "output_type": "execute_result"
    }
   ],
   "source": [
    "dico = pd.read_csv(\"/home/olojkine/Downloads/lexique-grammalecte-fr-v7.0.txt\", skiprows=15, sep='\\t')\n",
    "dico.sort_values(\"Fréquence\", inplace=True)\n",
    "dico = dico[(dico.Fréquence > 1e-5) & (dico.Étiquettes.str.match(\"nom|v[123]|adj\")) & (dico.Lemme.str.len() > 2) & (dico.Flexion == dico.Lemme)]\n",
    "dico = dico[dico.Lemme.isin(model.index_to_key)]\n",
    "dico[[\"Lemme\", \"Fréquence\"]]"
   ]
  },
  {
   "cell_type": "code",
   "execution_count": 5,
   "id": "f7dead5a-b368-46c6-aac6-1a453b3db5df",
   "metadata": {},
   "outputs": [],
   "source": [
    "import requests\n",
    "import time\n",
    "def req_word(word):\n",
    "    r = requests.post(\"https://cemantix.herokuapp.com/score\", data={\"word\": word}).json()\n",
    "    if \"error\" in r and \"tapez trop vite\" in r[\"error\"]:\n",
    "        time.sleep(.2)\n",
    "        return req_word(word)\n",
    "    return r.get(\"score\", np.nan)"
   ]
  },
  {
   "cell_type": "code",
   "execution_count": 6,
   "id": "4869e8fe-1d58-4f3d-9e20-3da0ac1fc6dc",
   "metadata": {},
   "outputs": [
    {
     "name": "stdout",
     "output_type": "stream",
     "text": [
      "sleeping for 0:02:16.457210\n"
     ]
    }
   ],
   "source": [
    "import datetime\n",
    "now = datetime.datetime.now()\n",
    "dt = datetime.datetime(now.year, now.month, now.day+1) - now\n",
    "print(f\"sleeping for {dt}\")\n",
    "time.sleep(dt.total_seconds())"
   ]
  },
  {
   "cell_type": "code",
   "execution_count": 7,
   "id": "41cc49ca-2e98-427d-b0c2-929733f04ca2",
   "metadata": {},
   "outputs": [
    {
     "name": "stdout",
     "output_type": "stream",
     "text": [
      "  1. J'essaie “est”. Score: 18.18.\n",
      "  2. J'essaie “système”. Score: 17.48.\n",
      "  3. J'essaie “parlement”. Score: -2.40.\n",
      "  4. J'essaie “espèce”. Score: 6.17.\n",
      "  5. J'essaie “usage”. Score: 18.01.\n",
      "  6. J'essaie “mode”. Score: 21.26.\n",
      "  7. J'essaie “moyen”. Score: 24.22.\n",
      "  8. J'essaie “fonction”. Score: 22.32.\n",
      "  9. J'essaie “égal”. Score: 4.35.\n",
      " 10. J'essaie “utilitaire”. Score: 9.70.\n",
      " 11. J'essaie “intermédiaire”. Score: 31.53.\n",
      " 12. J'essaie “forme”. Score: 26.09.\n",
      " 13. J'essaie “scriptural”. Score: 19.17.\n",
      " 14. J'essaie “classique”. Score: 18.51.\n",
      " 15. J'essaie “ponctuel”.  GAGNÉ en 11.7 secondes\n"
     ]
    }
   ],
   "source": [
    "import time\n",
    "t = time.time()\n",
    "vocab = pd.Series(dico.Fréquence.values, index=dico.Lemme)\n",
    "i = 0\n",
    "while not vocab.empty:\n",
    "    i += 1\n",
    "    word = vocab.idxmax()\n",
    "    print(f\"{i:3d}. J'essaie “{word}”. \", end=\"\")\n",
    "    score = req_word(word)\n",
    "    vocab.drop(index=word, inplace=True)\n",
    "    if np.isnan(score):\n",
    "        print(\" Cémantix ne connaît pas ce mot.\")\n",
    "        continue\n",
    "    if score == 1:\n",
    "        print(f\" GAGNÉ en {time.time() - t:.1f} secondes\")\n",
    "        break\n",
    "    print(f\"Score: {100*score:.2f}.\")\n",
    "    sims = vocab.index.map({\n",
    "        word: sim\n",
    "        for word, sim\n",
    "        in model.most_similar(word, topn=len(model))\n",
    "    })\n",
    "    vocab /= np.abs(score-sims)"
   ]
  }
 ],
 "metadata": {
  "kernelspec": {
   "display_name": "Python 3 (ipykernel)",
   "language": "python",
   "name": "python3"
  },
  "language_info": {
   "codemirror_mode": {
    "name": "ipython",
    "version": 3
   },
   "file_extension": ".py",
   "mimetype": "text/x-python",
   "name": "python",
   "nbconvert_exporter": "python",
   "pygments_lexer": "ipython3",
   "version": "3.10.2"
  }
 },
 "nbformat": 4,
 "nbformat_minor": 5
}
